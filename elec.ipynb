{
 "cells": [
  {
   "attachments": {},
   "cell_type": "markdown",
   "metadata": {},
   "source": [
    "# HALL ENTREE R+0"
   ]
  },
  {
   "attachments": {},
   "cell_type": "markdown",
   "metadata": {},
   "source": [
    "## Lumière \n",
    "1. Led escalier \n",
    "2. Applique mural H-R0-2 (2) \n",
    "3. Applique mural H-R0-6\n",
    "4. Lumiere suspendu central \n",
    "5. Lumiere plafond local technique \n",
    "## Interrupteur\n",
    "1. Interrupteur H-R0-1: hauteur main droit en rentrant: lumiere escalier + éclairage suspendu au plafond + applique mural sur les mur H-R0-2 et H-R0-6.\n",
    "2. Interrupteur H-R0-6: hauteur main gauche en sortant de la piece: lumiere escalier + éclairage suspendu au plafond + applique mural sur les mur H-R0-2 et H-R0-6.\n",
    "3. Interrupteur H-R0-5: hauteur main droite pour le local technique.\n",
    "4. Interrupteur H-R0-5: hauteur main gauche pour toilette.\n",
    "\n",
    "## Prise\n",
    "1. ??\n"
   ]
  },
  {
   "attachments": {},
   "cell_type": "markdown",
   "metadata": {},
   "source": [
    "<div style=\"text-align:center\">\n",
    "    <img src=\"img/Hall-d-entree.png\" alt=\"Example Image\" style=\"height: 600px; width: auto;\">\n",
    "</div>"
   ]
  },
  {
   "attachments": {},
   "cell_type": "markdown",
   "metadata": {},
   "source": [
    "## Escalier"
   ]
  },
  {
   "attachments": {},
   "cell_type": "markdown",
   "metadata": {},
   "source": [
    "<div style=\"text-align:center\">\n",
    "    <img src=\"img/escalier1.jpg\" alt=\"Example Image\" style=\"height: 400px; width: auto;\">\n",
    "    <img src=\"img/escalier2.jpg\" alt=\"Example Image\" style=\"height: 400px; width: auto;\">\n",
    "    <img src=\"img/escalier3.jpg\" alt=\"Example Image\" style=\"height: 400px; width: auto;\">\n",
    "    <img src=\"img/escalier4.jpg\" alt=\"Example Image\" style=\"height: 400px; width: auto;\">\n",
    "</div>\n"
   ]
  },
  {
   "attachments": {},
   "cell_type": "markdown",
   "metadata": {},
   "source": [
    "## Applique mural + suspendu"
   ]
  },
  {
   "attachments": {},
   "cell_type": "markdown",
   "metadata": {},
   "source": [
    "<div style=\"text-align:center\">\n",
    "    <img src=\"img/applique1.jpg\" alt=\"Example Image\" style=\"height: 400px; width: auto;\">\n",
    "    <img src=\"img/applique2.jpg\" alt=\"Example Image\" style=\"height: 400px; width: auto;\">\n",
    "    <img src=\"img/applique3.jpg\" alt=\"Example Image\" style=\"height: 400px; width: auto;\">\n",
    "    <img src=\"img/applique4.jpg\" alt=\"Example Image\" style=\"height: 400px; width: auto;\">\n",
    "</div>\n",
    "<div style=\"text-align:center\">\n",
    "    <img src=\"img/luminaire_suspendu.jpg\" alt=\"Example Image\" style=\"height: 400px; width: auto;\">\n",
    "</div>"
   ]
  },
  {
   "attachments": {},
   "cell_type": "markdown",
   "metadata": {},
   "source": [
    "## Toilette"
   ]
  },
  {
   "attachments": {},
   "cell_type": "markdown",
   "metadata": {},
   "source": [
    "<div style=\"text-align:center\">\n",
    "    <img src=\"img/toilette.jpg\" alt=\"Example Image\" style=\"height: 500px; width: auto;\">\n",
    "    <img src=\"img/toilette2.jpg\" alt=\"Example Image\" style=\"height: 500px; width: auto;\">\n",
    "</div>\n"
   ]
  },
  {
   "attachments": {},
   "cell_type": "markdown",
   "metadata": {},
   "source": [
    "# Cuisine R+0"
   ]
  },
  {
   "attachments": {},
   "cell_type": "markdown",
   "metadata": {},
   "source": [
    "## Lumière\n",
    "\n",
    "## Interrupteur \n",
    "1. Interrupteur Cui-R-5: éclairrage extérieure\n",
    "2. Interrupteur Cui-R-5: éclairrage cuisine + salon\n",
    "3. Interrupteur Cui-R-6: éclairrage cuisine et salon (A discuter)\n",
    "4. Interrupteur Cui-R-7: éclairrage cuisine et salon (A discuter)\n",
    "5. Interrupteur Cui-R-3 (coté rue): éclairrage cuisine (A discuter)\n",
    "\n",
    "\n",
    "## Prises\n",
    "1. Prise lave vaisselles.\n",
    "2. Prise four.\n",
    "3. Prise plan de travail: Machine a café. \n",
    "4. Prise plan de travail: (6)\n",
    "5. Prise ilot central."
   ]
  },
  {
   "attachments": {},
   "cell_type": "markdown",
   "metadata": {},
   "source": [
    "<div style=\"text-align:center\">\n",
    "    <img src=\"img/cuisine.png\" alt=\"Example Image\" style=\"height: 600px; width: auto;\">\n",
    "</div>"
   ]
  },
  {
   "attachments": {},
   "cell_type": "markdown",
   "metadata": {},
   "source": [
    "\n",
    "<div style=\"text-align:center\">\n",
    "    <img src=\"img/cuisine1.jpg\" alt=\"Example Image\" style=\"height: 500px; width: auto;\">\n",
    "    <img src=\"img/cuisine2.jpg\" alt=\"Example Image\" style=\"height: 500px; width: auto;\">\n",
    "    <img src=\"img/cuisine3.jpg\" alt=\"Example Image\" style=\"height: 500px; width: auto;\">\n",
    "    <img src=\"img/cuisine4.jpg\" alt=\"Example Image\" style=\"height: 500px; width: auto;\">\n",
    "    <img src=\"img/cuisine5.jpg\" alt=\"Example Image\" style=\"height: 500px; width: auto;\">\n",
    "</div>\n"
   ]
  },
  {
   "attachments": {},
   "cell_type": "markdown",
   "metadata": {},
   "source": [
    "NB: ne regarder que les luminaires pas les cuisines"
   ]
  },
  {
   "attachments": {},
   "cell_type": "markdown",
   "metadata": {},
   "source": [
    "# Salon"
   ]
  },
  {
   "attachments": {},
   "cell_type": "markdown",
   "metadata": {},
   "source": [
    "## Lumière\n",
    "\n",
    "## Interrupteur \n",
    "\n",
    "\n",
    "## Prises\n"
   ]
  },
  {
   "attachments": {},
   "cell_type": "markdown",
   "metadata": {},
   "source": [
    "<div style=\"text-align:center\">\n",
    "    <img src=\"img/salon.png\" alt=\"Example Image\" style=\"height: 600px; width: auto;\">\n",
    "</div>"
   ]
  },
  {
   "attachments": {},
   "cell_type": "markdown",
   "metadata": {},
   "source": [
    "# Bureau"
   ]
  },
  {
   "attachments": {},
   "cell_type": "markdown",
   "metadata": {},
   "source": [
    "## Lumière\n",
    "\n",
    "## Interrupteur \n",
    "\n",
    "\n",
    "## Prises\n"
   ]
  },
  {
   "attachments": {},
   "cell_type": "markdown",
   "metadata": {},
   "source": [
    "<div style=\"text-align:center\">\n",
    "    <img src=\"img/bureau.png\" alt=\"Example Image\" style=\"height: 600px; width: auto;\">\n",
    "</div>"
   ]
  }
 ],
 "metadata": {
  "language_info": {
   "name": "python"
  },
  "orig_nbformat": 4
 },
 "nbformat": 4,
 "nbformat_minor": 2
}
